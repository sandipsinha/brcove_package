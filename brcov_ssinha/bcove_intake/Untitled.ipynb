{
 "cells": [
  {
   "cell_type": "code",
   "execution_count": 47,
   "id": "daee939e-fb5b-430b-9d7b-059ac0a4742a",
   "metadata": {
    "tags": []
   },
   "outputs": [],
   "source": [
    "import pandas as pd\n",
    "import pendulum as dp\n",
    "import numpy as np\n",
    "\n",
    "afdf = pd.read_csv('data_input.csv',index_col=None,header=None)"
   ]
  },
  {
   "cell_type": "code",
   "execution_count": 48,
   "id": "5070913b-97a2-4c7e-a1b1-afc3e7c60bc6",
   "metadata": {
    "tags": []
   },
   "outputs": [],
   "source": [
    "columns = ['date', 'accountid', 'metric','usage']\n",
    "\n",
    "afdf.columns = columns"
   ]
  },
  {
   "cell_type": "code",
   "execution_count": 49,
   "id": "51082df2-afeb-4a85-811c-05ec31b0fc56",
   "metadata": {
    "tags": []
   },
   "outputs": [
    {
     "data": {
      "text/html": [
       "<div>\n",
       "<style scoped>\n",
       "    .dataframe tbody tr th:only-of-type {\n",
       "        vertical-align: middle;\n",
       "    }\n",
       "\n",
       "    .dataframe tbody tr th {\n",
       "        vertical-align: top;\n",
       "    }\n",
       "\n",
       "    .dataframe thead th {\n",
       "        text-align: right;\n",
       "    }\n",
       "</style>\n",
       "<table border=\"1\" class=\"dataframe\">\n",
       "  <thead>\n",
       "    <tr style=\"text-align: right;\">\n",
       "      <th></th>\n",
       "      <th>date</th>\n",
       "      <th>accountid</th>\n",
       "      <th>metric</th>\n",
       "      <th>usage</th>\n",
       "    </tr>\n",
       "  </thead>\n",
       "  <tbody>\n",
       "    <tr>\n",
       "      <th>0</th>\n",
       "      <td>03/31/2022T03:32:12Z</td>\n",
       "      <td>1.00</td>\n",
       "      <td>null_values</td>\n",
       "      <td>50.00</td>\n",
       "    </tr>\n",
       "    <tr>\n",
       "      <th>1</th>\n",
       "      <td>04/02/2023T14:23:47Z</td>\n",
       "      <td>10.00</td>\n",
       "      <td>bytes</td>\n",
       "      <td>5.50</td>\n",
       "    </tr>\n",
       "    <tr>\n",
       "      <th>2</th>\n",
       "      <td>04/02/2023T10:23:47Z</td>\n",
       "      <td>10.00</td>\n",
       "      <td>bytes</td>\n",
       "      <td>0.23</td>\n",
       "    </tr>\n",
       "    <tr>\n",
       "      <th>3</th>\n",
       "      <td>04/02/2023T02:23:47Z</td>\n",
       "      <td>10.00</td>\n",
       "      <td>likes</td>\n",
       "      <td>2.00</td>\n",
       "    </tr>\n",
       "    <tr>\n",
       "      <th>4</th>\n",
       "      <td>12/24/2022T22:00:08Z</td>\n",
       "      <td>4.00</td>\n",
       "      <td>amount</td>\n",
       "      <td>2.61</td>\n",
       "    </tr>\n",
       "    <tr>\n",
       "      <th>5</th>\n",
       "      <td>04/02/2023T10:23:47Z</td>\n",
       "      <td>5.00</td>\n",
       "      <td>bytes</td>\n",
       "      <td>0.25</td>\n",
       "    </tr>\n",
       "    <tr>\n",
       "      <th>6</th>\n",
       "      <td>03/21/2022T03:32:12Z</td>\n",
       "      <td>1.00</td>\n",
       "      <td>likes</td>\n",
       "      <td>70.00</td>\n",
       "    </tr>\n",
       "    <tr>\n",
       "      <th>7</th>\n",
       "      <td>07/21/2022T03:32:12Z</td>\n",
       "      <td>1.32</td>\n",
       "      <td>likes</td>\n",
       "      <td>70.00</td>\n",
       "    </tr>\n",
       "  </tbody>\n",
       "</table>\n",
       "</div>"
      ],
      "text/plain": [
       "                   date  accountid       metric  usage\n",
       "0  03/31/2022T03:32:12Z       1.00  null_values  50.00\n",
       "1  04/02/2023T14:23:47Z      10.00        bytes   5.50\n",
       "2  04/02/2023T10:23:47Z      10.00        bytes   0.23\n",
       "3  04/02/2023T02:23:47Z      10.00        likes   2.00\n",
       "4  12/24/2022T22:00:08Z       4.00       amount   2.61\n",
       "5  04/02/2023T10:23:47Z       5.00        bytes   0.25\n",
       "6  03/21/2022T03:32:12Z       1.00        likes  70.00\n",
       "7  07/21/2022T03:32:12Z       1.32        likes  70.00"
      ]
     },
     "execution_count": 49,
     "metadata": {},
     "output_type": "execute_result"
    }
   ],
   "source": [
    "afdf.replace(np. nan,'null_values',regex=True) "
   ]
  },
  {
   "cell_type": "code",
   "execution_count": 26,
   "id": "f0375451-2655-4ae3-ba4d-7866ed163cd3",
   "metadata": {
    "tags": []
   },
   "outputs": [
    {
     "name": "stdout",
     "output_type": "stream",
     "text": [
      "         date  accountid  metric  total_usage\n",
      "0  2022-03-21          1   likes        70.00\n",
      "1  2022-12-24          4  amount         2.61\n",
      "2  2023-04-02          5   bytes         0.25\n",
      "3  2023-04-02         10   bytes         5.73\n",
      "4  2023-04-02         10   likes         2.00\n"
     ]
    }
   ],
   "source": [
    "grouped_multiple = afdf.groupby(['date','accountid','metric']).agg({'usage': ['sum']})\n",
    "grouped_multiple.columns = ['total_usage']\n",
    "grouped_multiple = grouped_multiple.reset_index()\n",
    "print(grouped_multiple)\n"
   ]
  },
  {
   "cell_type": "code",
   "execution_count": 24,
   "id": "2d189908-e527-4a4c-b819-5ea3d117ff0b",
   "metadata": {
    "tags": []
   },
   "outputs": [],
   "source": [
    "afdf['date'] = afdf['date'].apply(lambda x: dp.parse(x,strict=False).to_date_string())"
   ]
  },
  {
   "cell_type": "code",
   "execution_count": 11,
   "id": "c69fc470-2f1c-4e8a-80df-ce47c6161ec2",
   "metadata": {
    "tags": []
   },
   "outputs": [
    {
     "name": "stdout",
     "output_type": "stream",
     "text": [
      "                   date  accountid  metric  usage\n",
      "0  03/31/2022T03:32:12Z       1.00     NaN  50.00\n",
      "1  04/02/2023T14:23:47Z      10.00   bytes   5.50\n",
      "2  04/02/2023T10:23:47Z      10.00   bytes   0.23\n",
      "3  04/02/2023T02:23:47Z      10.00   likes   2.00\n",
      "4  12/24/2022T22:00:08Z       4.00  amount   2.61\n",
      "5  04/02/2023T10:23:47Z       5.00   bytes   0.25\n",
      "6  03/21/2022T03:32:12Z       1.00   likes  70.00\n",
      "7  07/21/2022T03:32:12Z       1.32   likes  70.00\n"
     ]
    }
   ],
   "source": [
    "print(afdf)"
   ]
  },
  {
   "cell_type": "code",
   "execution_count": 41,
   "id": "1c0c5d7b-85c2-4e75-a1d4-55089406e743",
   "metadata": {
    "tags": []
   },
   "outputs": [
    {
     "data": {
      "text/plain": [
       "dtype('float64')"
      ]
     },
     "execution_count": 41,
     "metadata": {},
     "output_type": "execute_result"
    }
   ],
   "source": [
    "afdf.dtypes['accountid']"
   ]
  },
  {
   "cell_type": "code",
   "execution_count": 48,
   "id": "35420d1e-2c14-46ca-8128-dd9884d773c3",
   "metadata": {
    "tags": []
   },
   "outputs": [],
   "source": [
    "afdf = afdf.astype({\"accountid\": float},errors='raise')"
   ]
  },
  {
   "cell_type": "code",
   "execution_count": 50,
   "id": "aee1a4f5-3784-4496-81ab-3a7811e2ab0e",
   "metadata": {
    "tags": []
   },
   "outputs": [
    {
     "name": "stdout",
     "output_type": "stream",
     "text": [
      "now now\n"
     ]
    }
   ],
   "source": [
    "if not isinstance(afdf.dtypes['accountid'],float): ## check if x is a str\n",
    "    print('now now')"
   ]
  },
  {
   "cell_type": "code",
   "execution_count": 1,
   "id": "43ecdd2c-8594-4745-a588-193ad679ee12",
   "metadata": {},
   "outputs": [],
   "source": [
    "from jproperties import Properties"
   ]
  },
  {
   "cell_type": "code",
   "execution_count": 5,
   "id": "d3fd94a6-c4dd-45a5-98b7-8e2382a67692",
   "metadata": {
    "tags": []
   },
   "outputs": [],
   "source": [
    "configs = Properties()\n",
    "with open('/Users/sandipsinha/pythoncodes/atest/src/bcove_ingest_file/bcove_cfg.poperties', 'rb') as config_file:\n",
    "    configs.load(config_file)"
   ]
  },
  {
   "cell_type": "code",
   "execution_count": 7,
   "id": "06561a0b-08d0-4b04-999a-1ab775e7d884",
   "metadata": {
    "tags": []
   },
   "outputs": [
    {
     "name": "stdout",
     "output_type": "stream",
     "text": [
      "[date,accountid]\n"
     ]
    }
   ],
   "source": [
    "print(configs.get(\"sort_cols\").data)  "
   ]
  },
  {
   "cell_type": "code",
   "execution_count": 7,
   "id": "5e88e4c6-7446-4f6a-95a1-305ff7891c50",
   "metadata": {},
   "outputs": [
    {
     "data": {
      "text/plain": [
       "list"
      ]
     },
     "execution_count": 7,
     "metadata": {},
     "output_type": "execute_result"
    }
   ],
   "source": [
    "sort_cols=\"['date','accountid']\"\n",
    "import json\n",
    "type(eval(sort_cols))"
   ]
  },
  {
   "cell_type": "code",
   "execution_count": 51,
   "id": "f115adb7-8fa5-4957-acba-497bad6def8a",
   "metadata": {
    "tags": []
   },
   "outputs": [
    {
     "data": {
      "text/html": [
       "<div>\n",
       "<style scoped>\n",
       "    .dataframe tbody tr th:only-of-type {\n",
       "        vertical-align: middle;\n",
       "    }\n",
       "\n",
       "    .dataframe tbody tr th {\n",
       "        vertical-align: top;\n",
       "    }\n",
       "\n",
       "    .dataframe thead th {\n",
       "        text-align: right;\n",
       "    }\n",
       "</style>\n",
       "<table border=\"1\" class=\"dataframe\">\n",
       "  <thead>\n",
       "    <tr style=\"text-align: right;\">\n",
       "      <th></th>\n",
       "      <th>date</th>\n",
       "      <th>accountid</th>\n",
       "      <th>metric</th>\n",
       "      <th>usage</th>\n",
       "    </tr>\n",
       "  </thead>\n",
       "  <tbody>\n",
       "    <tr>\n",
       "      <th>0</th>\n",
       "      <td>03/31/2022T03:32:12Z</td>\n",
       "      <td>1.00</td>\n",
       "      <td>NaN</td>\n",
       "      <td>50.00</td>\n",
       "    </tr>\n",
       "    <tr>\n",
       "      <th>1</th>\n",
       "      <td>04/02/2023T14:23:47Z</td>\n",
       "      <td>10.00</td>\n",
       "      <td>bytes</td>\n",
       "      <td>5.50</td>\n",
       "    </tr>\n",
       "    <tr>\n",
       "      <th>2</th>\n",
       "      <td>04/02/2023T10:23:47Z</td>\n",
       "      <td>10.00</td>\n",
       "      <td>bytes</td>\n",
       "      <td>0.23</td>\n",
       "    </tr>\n",
       "    <tr>\n",
       "      <th>3</th>\n",
       "      <td>04/02/2023T02:23:47Z</td>\n",
       "      <td>10.00</td>\n",
       "      <td>likes</td>\n",
       "      <td>2.00</td>\n",
       "    </tr>\n",
       "    <tr>\n",
       "      <th>4</th>\n",
       "      <td>12/24/2022T22:00:08Z</td>\n",
       "      <td>4.00</td>\n",
       "      <td>amount</td>\n",
       "      <td>2.61</td>\n",
       "    </tr>\n",
       "    <tr>\n",
       "      <th>5</th>\n",
       "      <td>04/02/2023T10:23:47Z</td>\n",
       "      <td>5.00</td>\n",
       "      <td>bytes</td>\n",
       "      <td>0.25</td>\n",
       "    </tr>\n",
       "    <tr>\n",
       "      <th>6</th>\n",
       "      <td>03/21/2022T03:32:12Z</td>\n",
       "      <td>1.00</td>\n",
       "      <td>likes</td>\n",
       "      <td>70.00</td>\n",
       "    </tr>\n",
       "    <tr>\n",
       "      <th>7</th>\n",
       "      <td>07/21/2022T03:32:12Z</td>\n",
       "      <td>1.32</td>\n",
       "      <td>likes</td>\n",
       "      <td>70.00</td>\n",
       "    </tr>\n",
       "  </tbody>\n",
       "</table>\n",
       "</div>"
      ],
      "text/plain": [
       "                   date  accountid  metric  usage\n",
       "0  03/31/2022T03:32:12Z       1.00     NaN  50.00\n",
       "1  04/02/2023T14:23:47Z      10.00   bytes   5.50\n",
       "2  04/02/2023T10:23:47Z      10.00   bytes   0.23\n",
       "3  04/02/2023T02:23:47Z      10.00   likes   2.00\n",
       "4  12/24/2022T22:00:08Z       4.00  amount   2.61\n",
       "5  04/02/2023T10:23:47Z       5.00   bytes   0.25\n",
       "6  03/21/2022T03:32:12Z       1.00   likes  70.00\n",
       "7  07/21/2022T03:32:12Z       1.32   likes  70.00"
      ]
     },
     "execution_count": 51,
     "metadata": {},
     "output_type": "execute_result"
    }
   ],
   "source": [
    "afdf"
   ]
  },
  {
   "cell_type": "code",
   "execution_count": 53,
   "id": "9964165b-48b1-4dd5-a0ff-88904e98ba0d",
   "metadata": {
    "tags": []
   },
   "outputs": [],
   "source": [
    "for i in afdf.index.tolist():\n",
    "    value = afdf.iloc[i,1]\n",
    "    try:\n",
    "        check_desired_format(value)\n",
    "    except Exception as e:\n",
    "        afdf.drop(i, inplace=True)"
   ]
  },
  {
   "cell_type": "code",
   "execution_count": 54,
   "id": "25481cc7-c950-46a5-bfb3-2a54a01295bd",
   "metadata": {},
   "outputs": [],
   "source": [
    "def check_desired_format(x):\n",
    "    if int(x) == x:\n",
    "        return True\n",
    "    else:\n",
    "        raise Exception(\"Conversion Error\")"
   ]
  },
  {
   "cell_type": "code",
   "execution_count": 45,
   "id": "7fad08cf-680f-4f6a-9280-dac0bc69fb1c",
   "metadata": {
    "tags": []
   },
   "outputs": [],
   "source": [
    "afdf['accountid'] = afdf['accountid'].astype('int64')"
   ]
  },
  {
   "cell_type": "code",
   "execution_count": 55,
   "id": "ab10b173-ffce-44fb-942f-a96d4cd294a7",
   "metadata": {
    "tags": []
   },
   "outputs": [
    {
     "data": {
      "text/html": [
       "<div>\n",
       "<style scoped>\n",
       "    .dataframe tbody tr th:only-of-type {\n",
       "        vertical-align: middle;\n",
       "    }\n",
       "\n",
       "    .dataframe tbody tr th {\n",
       "        vertical-align: top;\n",
       "    }\n",
       "\n",
       "    .dataframe thead th {\n",
       "        text-align: right;\n",
       "    }\n",
       "</style>\n",
       "<table border=\"1\" class=\"dataframe\">\n",
       "  <thead>\n",
       "    <tr style=\"text-align: right;\">\n",
       "      <th></th>\n",
       "      <th>date</th>\n",
       "      <th>accountid</th>\n",
       "      <th>metric</th>\n",
       "      <th>usage</th>\n",
       "    </tr>\n",
       "  </thead>\n",
       "  <tbody>\n",
       "    <tr>\n",
       "      <th>0</th>\n",
       "      <td>03/31/2022T03:32:12Z</td>\n",
       "      <td>1.0</td>\n",
       "      <td>NaN</td>\n",
       "      <td>50.00</td>\n",
       "    </tr>\n",
       "    <tr>\n",
       "      <th>1</th>\n",
       "      <td>04/02/2023T14:23:47Z</td>\n",
       "      <td>10.0</td>\n",
       "      <td>bytes</td>\n",
       "      <td>5.50</td>\n",
       "    </tr>\n",
       "    <tr>\n",
       "      <th>2</th>\n",
       "      <td>04/02/2023T10:23:47Z</td>\n",
       "      <td>10.0</td>\n",
       "      <td>bytes</td>\n",
       "      <td>0.23</td>\n",
       "    </tr>\n",
       "    <tr>\n",
       "      <th>3</th>\n",
       "      <td>04/02/2023T02:23:47Z</td>\n",
       "      <td>10.0</td>\n",
       "      <td>likes</td>\n",
       "      <td>2.00</td>\n",
       "    </tr>\n",
       "    <tr>\n",
       "      <th>4</th>\n",
       "      <td>12/24/2022T22:00:08Z</td>\n",
       "      <td>4.0</td>\n",
       "      <td>amount</td>\n",
       "      <td>2.61</td>\n",
       "    </tr>\n",
       "    <tr>\n",
       "      <th>5</th>\n",
       "      <td>04/02/2023T10:23:47Z</td>\n",
       "      <td>5.0</td>\n",
       "      <td>bytes</td>\n",
       "      <td>0.25</td>\n",
       "    </tr>\n",
       "    <tr>\n",
       "      <th>6</th>\n",
       "      <td>03/21/2022T03:32:12Z</td>\n",
       "      <td>1.0</td>\n",
       "      <td>likes</td>\n",
       "      <td>70.00</td>\n",
       "    </tr>\n",
       "  </tbody>\n",
       "</table>\n",
       "</div>"
      ],
      "text/plain": [
       "                   date  accountid  metric  usage\n",
       "0  03/31/2022T03:32:12Z        1.0     NaN  50.00\n",
       "1  04/02/2023T14:23:47Z       10.0   bytes   5.50\n",
       "2  04/02/2023T10:23:47Z       10.0   bytes   0.23\n",
       "3  04/02/2023T02:23:47Z       10.0   likes   2.00\n",
       "4  12/24/2022T22:00:08Z        4.0  amount   2.61\n",
       "5  04/02/2023T10:23:47Z        5.0   bytes   0.25\n",
       "6  03/21/2022T03:32:12Z        1.0   likes  70.00"
      ]
     },
     "execution_count": 55,
     "metadata": {},
     "output_type": "execute_result"
    }
   ],
   "source": [
    "afdf"
   ]
  },
  {
   "cell_type": "code",
   "execution_count": 56,
   "id": "c64dd04c-5552-4f72-91d5-cc1b3be9d86d",
   "metadata": {
    "tags": []
   },
   "outputs": [],
   "source": [
    "alist = [{'date':'2022-04-10T14:23:47Z','accountid':20,'metric':'bytes','usage':10},\n",
    "             {'date':'2022-05-14T12:23:47Z','accountid':10,'metric':'bytes','usage':20},\n",
    "             {'date':'2022-03-11T12:23:47Z','accountid':10,'metric':'bytes','usage':50}]\n",
    "adf = pd.DataFrame(alist)"
   ]
  },
  {
   "cell_type": "code",
   "execution_count": 57,
   "id": "96aeda9d-c47b-4ee0-be89-26b64876acf9",
   "metadata": {
    "tags": []
   },
   "outputs": [
    {
     "data": {
      "text/html": [
       "<div>\n",
       "<style scoped>\n",
       "    .dataframe tbody tr th:only-of-type {\n",
       "        vertical-align: middle;\n",
       "    }\n",
       "\n",
       "    .dataframe tbody tr th {\n",
       "        vertical-align: top;\n",
       "    }\n",
       "\n",
       "    .dataframe thead th {\n",
       "        text-align: right;\n",
       "    }\n",
       "</style>\n",
       "<table border=\"1\" class=\"dataframe\">\n",
       "  <thead>\n",
       "    <tr style=\"text-align: right;\">\n",
       "      <th></th>\n",
       "      <th>date</th>\n",
       "      <th>accountid</th>\n",
       "      <th>metric</th>\n",
       "      <th>usage</th>\n",
       "    </tr>\n",
       "  </thead>\n",
       "  <tbody>\n",
       "    <tr>\n",
       "      <th>0</th>\n",
       "      <td>2022-04-10T14:23:47Z</td>\n",
       "      <td>20</td>\n",
       "      <td>bytes</td>\n",
       "      <td>10</td>\n",
       "    </tr>\n",
       "    <tr>\n",
       "      <th>1</th>\n",
       "      <td>2022-05-14T12:23:47Z</td>\n",
       "      <td>10</td>\n",
       "      <td>bytes</td>\n",
       "      <td>20</td>\n",
       "    </tr>\n",
       "    <tr>\n",
       "      <th>2</th>\n",
       "      <td>2022-03-11T12:23:47Z</td>\n",
       "      <td>10</td>\n",
       "      <td>bytes</td>\n",
       "      <td>50</td>\n",
       "    </tr>\n",
       "  </tbody>\n",
       "</table>\n",
       "</div>"
      ],
      "text/plain": [
       "                   date  accountid metric  usage\n",
       "0  2022-04-10T14:23:47Z         20  bytes     10\n",
       "1  2022-05-14T12:23:47Z         10  bytes     20\n",
       "2  2022-03-11T12:23:47Z         10  bytes     50"
      ]
     },
     "execution_count": 57,
     "metadata": {},
     "output_type": "execute_result"
    }
   ],
   "source": [
    "adf"
   ]
  },
  {
   "cell_type": "code",
   "execution_count": null,
   "id": "368be7c6-674b-4739-9ce2-336ef25cbd5b",
   "metadata": {},
   "outputs": [],
   "source": []
  }
 ],
 "metadata": {
  "kernelspec": {
   "display_name": "Python 3 (ipykernel)",
   "language": "python",
   "name": "python3"
  },
  "language_info": {
   "codemirror_mode": {
    "name": "ipython",
    "version": 3
   },
   "file_extension": ".py",
   "mimetype": "text/x-python",
   "name": "python",
   "nbconvert_exporter": "python",
   "pygments_lexer": "ipython3",
   "version": "3.10.8"
  }
 },
 "nbformat": 4,
 "nbformat_minor": 5
}
